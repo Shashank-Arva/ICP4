{
 "cells": [
  {
   "cell_type": "code",
   "execution_count": 1,
   "id": "c3632031-b05f-4813-90d3-16aa639bda14",
   "metadata": {},
   "outputs": [
    {
     "name": "stdout",
     "output_type": "stream",
     "text": [
      "     Duration  Pulse  Maxpulse  Calories\n",
      "0          60    110       130     409.1\n",
      "1          60    117       145     479.0\n",
      "2          60    103       135     340.0\n",
      "3          45    109       175     282.4\n",
      "4          45    117       148     406.0\n",
      "..        ...    ...       ...       ...\n",
      "164        60    105       140     290.8\n",
      "165        60    110       145     300.0\n",
      "166        60    115       145     310.2\n",
      "167        75    120       150     320.4\n",
      "168        75    125       150     330.4\n",
      "\n",
      "[169 rows x 4 columns]\n"
     ]
    }
   ],
   "source": [
    "import pandas as pd\n",
    "import matplotlib.pyplot as plt\n",
    "from sklearn.metrics import mean_squared_error\n",
    "data = pd.read_csv('data.csv')\n",
    "print (data)\n"
   ]
  },
  {
   "cell_type": "code",
   "execution_count": 2,
   "id": "3e4a7ba4-e787-4b31-ba3b-570c76f8d30f",
   "metadata": {},
   "outputs": [
    {
     "name": "stdout",
     "output_type": "stream",
     "text": [
      "Duration     63.846154\n",
      "Pulse       107.461538\n",
      "Maxpulse    134.047337\n",
      "Calories    375.790244\n",
      "dtype: float64\n"
     ]
    }
   ],
   "source": [
    "print (data.mean())"
   ]
  },
  {
   "cell_type": "code",
   "execution_count": 3,
   "id": "f2c176bd-f657-473c-b8e2-33d89d2d4369",
   "metadata": {},
   "outputs": [
    {
     "name": "stdout",
     "output_type": "stream",
     "text": [
      "Duration     60.0\n",
      "Pulse       105.0\n",
      "Maxpulse    131.0\n",
      "Calories    318.6\n",
      "dtype: float64\n"
     ]
    }
   ],
   "source": [
    "print (data.median())"
   ]
  },
  {
   "cell_type": "code",
   "execution_count": 4,
   "id": "b006df4c-f656-41ab-80c7-a5d693ba59eb",
   "metadata": {},
   "outputs": [
    {
     "name": "stdout",
     "output_type": "stream",
     "text": [
      "   Duration  Pulse  Maxpulse  Calories\n",
      "0        60    100       120     300.0\n"
     ]
    }
   ],
   "source": [
    "print (data.mode())"
   ]
  },
  {
   "cell_type": "code",
   "execution_count": 5,
   "id": "9cc19643-e76e-4314-9466-76046e00b24c",
   "metadata": {},
   "outputs": [
    {
     "name": "stdout",
     "output_type": "stream",
     "text": [
      "Duration     42.299949\n",
      "Pulse        14.510259\n",
      "Maxpulse     16.450434\n",
      "Calories    266.379919\n",
      "dtype: float64\n"
     ]
    }
   ],
   "source": [
    "print (data.std())"
   ]
  },
  {
   "cell_type": "code",
   "execution_count": 6,
   "id": "cc211ae1-7292-45a9-b1b9-c578bce0849b",
   "metadata": {},
   "outputs": [
    {
     "name": "stdout",
     "output_type": "stream",
     "text": [
      "Duration     1789.285714\n",
      "Pulse         210.547619\n",
      "Maxpulse      270.616793\n",
      "Calories    70958.261377\n",
      "dtype: float64\n"
     ]
    }
   ],
   "source": [
    "print (data.var())"
   ]
  },
  {
   "cell_type": "code",
   "execution_count": 7,
   "id": "c04f97ee-ecc1-40e2-8565-84e85741ca4a",
   "metadata": {},
   "outputs": [
    {
     "name": "stdout",
     "output_type": "stream",
     "text": [
      "Duration    0\n",
      "Pulse       0\n",
      "Maxpulse    0\n",
      "Calories    5\n",
      "dtype: int64\n"
     ]
    }
   ],
   "source": [
    "print (data.isnull().sum())"
   ]
  },
  {
   "cell_type": "code",
   "execution_count": 8,
   "id": "907ce19d-bf79-473e-9a3d-3a56ac8d45b2",
   "metadata": {},
   "outputs": [
    {
     "name": "stdout",
     "output_type": "stream",
     "text": [
      "Duration    0\n",
      "Pulse       0\n",
      "Maxpulse    0\n",
      "Calories    0\n",
      "dtype: int64\n"
     ]
    }
   ],
   "source": [
    "data['Calories'] = data['Calories'].fillna(data['Calories'].mean())\n",
    "print (data.isnull().sum())"
   ]
  },
  {
   "cell_type": "code",
   "execution_count": 9,
   "id": "a0a7709d-da87-4799-adec-dff92ccaa83f",
   "metadata": {},
   "outputs": [
    {
     "name": "stdout",
     "output_type": "stream",
     "text": [
      "         Duration    Maxpulse\n",
      "min     15.000000  100.000000\n",
      "max    300.000000  184.000000\n",
      "count  169.000000  169.000000\n",
      "mean    63.846154  134.047337\n"
     ]
    }
   ],
   "source": [
    "result = data[['Duration','Maxpulse']].agg(['min','max','count','mean'])\n",
    "print (result)"
   ]
  },
  {
   "cell_type": "code",
   "execution_count": 10,
   "id": "82fe4324-8f13-4eb6-94b5-b6817d9ba5be",
   "metadata": {},
   "outputs": [
    {
     "name": "stdout",
     "output_type": "stream",
     "text": [
      "     Duration  Pulse  Maxpulse  Calories\n",
      "51         80    123       146     643.1\n",
      "62        160    109       135     853.0\n",
      "65        180     90       130     800.4\n",
      "66        150    105       135     873.4\n",
      "67        150    107       130     816.0\n",
      "72         90    100       127     700.0\n",
      "73        150     97       127     953.2\n",
      "75         90     98       125     563.2\n",
      "78        120    100       130     500.4\n",
      "83        120    100       130     500.0\n",
      "90        180    101       127     600.1\n",
      "99         90     93       124     604.1\n",
      "101        90     90       110     500.0\n",
      "102        90     90       100     500.0\n",
      "103        90     90       100     500.4\n",
      "106       180     90       120     800.3\n",
      "108        90     90       120     500.3\n"
     ]
    }
   ],
   "source": [
    "d1 = data[data['Calories'].between(500,1000)]\n",
    "print (d1)"
   ]
  },
  {
   "cell_type": "code",
   "execution_count": 11,
   "id": "79f548ba-a531-4c67-9d2e-bbb892bbeea4",
   "metadata": {},
   "outputs": [
    {
     "name": "stdout",
     "output_type": "stream",
     "text": [
      "     Duration  Pulse  Maxpulse  Calories\n",
      "65        180     90       130     800.4\n",
      "70        150     97       129    1115.0\n",
      "73        150     97       127     953.2\n",
      "75         90     98       125     563.2\n",
      "99         90     93       124     604.1\n",
      "103        90     90       100     500.4\n",
      "106       180     90       120     800.3\n",
      "108        90     90       120     500.3\n"
     ]
    }
   ],
   "source": [
    "d2 = data[(data['Calories']>500) & (data['Pulse']<100)]\n",
    "print (d2)"
   ]
  },
  {
   "cell_type": "code",
   "execution_count": 12,
   "id": "07fd127f-743d-4de4-a11a-71d3e2412d68",
   "metadata": {},
   "outputs": [
    {
     "name": "stdout",
     "output_type": "stream",
     "text": [
      "     Duration  Pulse  Calories\n",
      "0          60    110     409.1\n",
      "1          60    117     479.0\n",
      "2          60    103     340.0\n",
      "3          45    109     282.4\n",
      "4          45    117     406.0\n",
      "..        ...    ...       ...\n",
      "164        60    105     290.8\n",
      "165        60    110     300.0\n",
      "166        60    115     310.2\n",
      "167        75    120     320.4\n",
      "168        75    125     330.4\n",
      "\n",
      "[169 rows x 3 columns]\n"
     ]
    }
   ],
   "source": [
    "data_modified=data.drop('Maxpulse',axis=1)\n",
    "print (data_modified)\n"
   ]
  },
  {
   "cell_type": "code",
   "execution_count": 13,
   "id": "e38cf94d-9c8c-4deb-900e-3224ba23aa28",
   "metadata": {},
   "outputs": [
    {
     "name": "stdout",
     "output_type": "stream",
     "text": [
      "     Duration  Pulse  Maxpulse  Calories\n",
      "0          60    110       130       409\n",
      "1          60    117       145       479\n",
      "2          60    103       135       340\n",
      "3          45    109       175       282\n",
      "4          45    117       148       406\n",
      "..        ...    ...       ...       ...\n",
      "164        60    105       140       290\n",
      "165        60    110       145       300\n",
      "166        60    115       145       310\n",
      "167        75    120       150       320\n",
      "168        75    125       150       330\n",
      "\n",
      "[169 rows x 4 columns]\n"
     ]
    }
   ],
   "source": [
    "data.drop('Maxpulse',axis=1)\n",
    "data[\"Calories\"]=data[\"Calories\"].astype(float).astype(int)\n",
    "print (data)"
   ]
  },
  {
   "cell_type": "code",
   "execution_count": 14,
   "id": "c50131a1-4903-4de4-83c1-c9c4bfebfe81",
   "metadata": {},
   "outputs": [
    {
     "data": {
      "image/png": "[encoded data removed]",
      "text/plain": [
       "<Figure size 640x480 with 1 Axes>"
      ]
     },
     "metadata": {},
     "output_type": "display_data"
    },
    {
     "name": "stdout",
     "output_type": "stream",
     "text": [
      "plot:  Axes(0.125,0.11;0.775x0.77)\n"
     ]
    }
   ],
   "source": [
    "plot = data.plot.scatter(x=\"Duration\", y=\"Calories\", title=\"Scatter Plot: Duration vs Calories\")\n",
    "plt.show()\n",
    "print (\"plot: \", plot)"
   ]
  }
 ],
 "metadata": {
  "kernelspec": {
   "display_name": "Python 3 (ipykernel)",
   "language": "python",
   "name": "python3"
  },
  "language_info": {
   "codemirror_mode": {
    "name": "ipython",
    "version": 3
   },
   "file_extension": ".py",
   "mimetype": "text/x-python",
   "name": "python",
   "nbconvert_exporter": "python",
   "pygments_lexer": "ipython3",
   "version": "3.12.1"
  }
 },
 "nbformat": 4,
 "nbformat_minor": 5
}
